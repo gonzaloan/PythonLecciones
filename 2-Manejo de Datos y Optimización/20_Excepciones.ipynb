{
 "cells": [
  {
   "cell_type": "code",
   "execution_count": 1,
   "metadata": {},
   "outputs": [
    {
     "name": "stdout",
     "output_type": "stream",
     "text": [
      "Ingresa un número19\n"
     ]
    }
   ],
   "source": [
    "n=float(input(\"Ingresa un número\"))"
   ]
  },
  {
   "cell_type": "code",
   "execution_count": 2,
   "metadata": {},
   "outputs": [],
   "source": [
    "m=4"
   ]
  },
  {
   "cell_type": "code",
   "execution_count": 3,
   "metadata": {},
   "outputs": [
    {
     "name": "stdout",
     "output_type": "stream",
     "text": [
      "19.0/4=4.75\n"
     ]
    }
   ],
   "source": [
    "print(\"{}/{}={}\".format(n,m,n/m))"
   ]
  },
  {
   "cell_type": "code",
   "execution_count": 8,
   "metadata": {},
   "outputs": [
    {
     "name": "stdout",
     "output_type": "stream",
     "text": [
      "Ingresa un númeroasd\n",
      "Ha ocurrido un error, Introduce bien el número.\n",
      "Fin\n"
     ]
    }
   ],
   "source": [
    "#Si acá al ingresar número, ponemos una letra, se caerá.\n",
    "#se arregla:\n",
    "try:\n",
    "    n=float(input(\"Ingresa un número\"))\n",
    "    m=4\n",
    "    print(\"{}/{}={}\".format(n,m,n/m))\n",
    "except:\n",
    "    print(\"Ha ocurrido un error, Introduce bien el número.\")\n",
    "else:\n",
    "    print(\"Todo ha funcionado OK.\")\n",
    "finally:\n",
    "    print(\"Fin\")"
   ]
  },
  {
   "cell_type": "code",
   "execution_count": null,
   "metadata": {},
   "outputs": [],
   "source": [
    "#el else se ejecuta si todo ocurre sin problemas.\n",
    "#finally se ejecuta al final de todo. SIEMPRE"
   ]
  }
 ],
 "metadata": {
  "kernelspec": {
   "display_name": "Python 3",
   "language": "python",
   "name": "python3"
  },
  "language_info": {
   "codemirror_mode": {
    "name": "ipython",
    "version": 3
   },
   "file_extension": ".py",
   "mimetype": "text/x-python",
   "name": "python",
   "nbconvert_exporter": "python",
   "pygments_lexer": "ipython3",
   "version": "3.6.5"
  }
 },
 "nbformat": 4,
 "nbformat_minor": 2
}
