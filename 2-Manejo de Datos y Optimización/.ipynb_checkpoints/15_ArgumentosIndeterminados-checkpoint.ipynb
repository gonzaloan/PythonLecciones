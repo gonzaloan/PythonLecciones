{
 "cells": [
  {
   "cell_type": "code",
   "execution_count": 3,
   "metadata": {},
   "outputs": [
    {
     "name": "stdout",
     "output_type": "stream",
     "text": [
      "({'b', 'a'}, 2, 3, [1, 2, 3, 4], 'Python')\n"
     ]
    }
   ],
   "source": [
    "def indeterminados_posicion(*args):  #Declarar argumentos indeterminados.\n",
    "    print(args)\n",
    "    \n",
    "indeterminados_posicion({'a','b'},2,3,[1,2,3,4],\"Python\")"
   ]
  },
  {
   "cell_type": "code",
   "execution_count": 4,
   "metadata": {},
   "outputs": [
    {
     "name": "stdout",
     "output_type": "stream",
     "text": [
      "{'b', 'a'}\n",
      "2\n",
      "3\n",
      "[1, 2, 3, 4]\n",
      "Python\n"
     ]
    }
   ],
   "source": [
    "def indeterminados_posicion(*args):  #Declarar argumentos indeterminados.\n",
    "    for arg in args:\n",
    "        print(arg)\n",
    "indeterminados_posicion({'a','b'},2,3,[1,2,3,4],\"Python\")"
   ]
  },
  {
   "cell_type": "code",
   "execution_count": 7,
   "metadata": {},
   "outputs": [
    {
     "name": "stdout",
     "output_type": "stream",
     "text": [
      "n  -  5\n",
      "c  -  Hola\n",
      "l  -  [1, 2, 3]\n"
     ]
    }
   ],
   "source": [
    "def indeterminados_por_nombre(**kwargs):  #argumentos con clave y valor, un diccionario\n",
    "    for kwarg in kwargs:\n",
    "        print(kwarg,\" - \", kwargs[kwarg])\n",
    "indeterminados_por_nombre(n=5,c=\"Hola\",l=[1,2,3])"
   ]
  },
  {
   "cell_type": "code",
   "execution_count": 9,
   "metadata": {},
   "outputs": [
    {
     "name": "stdout",
     "output_type": "stream",
     "text": [
      "Suma indet: 620\n",
      "nombre  -  Gonzalo\n",
      "edad  -  28\n"
     ]
    }
   ],
   "source": [
    "def superfuncion(*args,**kwargs):\n",
    "    t=0\n",
    "    for arg in args:\n",
    "        t+=arg\n",
    "    print(\"Suma indet:\",t)\n",
    "    for kwarg in kwargs:\n",
    "        print(kwarg,\" - \", kwargs[kwarg])\n",
    "\n",
    "superfuncion(506,103,-1,12, nombre=\"Gonzalo\",edad=28) #muchos argumentos y algunos argumentos con nombre"
   ]
  },
  {
   "cell_type": "code",
   "execution_count": null,
   "metadata": {},
   "outputs": [],
   "source": []
  }
 ],
 "metadata": {
  "kernelspec": {
   "display_name": "Python 3",
   "language": "python",
   "name": "python3"
  },
  "language_info": {
   "codemirror_mode": {
    "name": "ipython",
    "version": 3
   },
   "file_extension": ".py",
   "mimetype": "text/x-python",
   "name": "python",
   "nbconvert_exporter": "python",
   "pygments_lexer": "ipython3",
   "version": "3.6.5"
  }
 },
 "nbformat": 4,
 "nbformat_minor": 2
}
