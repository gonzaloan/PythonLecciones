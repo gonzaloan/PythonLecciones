{
 "cells": [
  {
   "cell_type": "markdown",
   "metadata": {},
   "source": [
    "# Tema 03: Control de flujo (Enunciados)\n",
    "*Nota: Estos ejercicios son optativos para hacer al final de la unidad y están pensados para apoyar tu aprendizaje*."
   ]
  },
  {
   "cell_type": "markdown",
   "metadata": {},
   "source": [
    "**1) Realiza un programa que lea dos números por teclado y permita elegir entre 3 opciones en un menú:** \n",
    "* Mostrar una suma de los dos números\n",
    "* Mostrar una resta de los dos números (el primero menos el segundo)\n",
    "* Mostrar una multiplicación de los dos números\n",
    "* En caso de no introducir una opción válida, el programa informará de que no es correcta."
   ]
  },
  {
   "cell_type": "code",
   "execution_count": 2,
   "metadata": {},
   "outputs": [
    {
     "name": "stdout",
     "output_type": "stream",
     "text": [
      "Ingrese número 1:12\n",
      "Ingrese número 2:12\n",
      "Ingrese su opción:\n",
      "    1) Suma\n",
      "    2) Resta\n",
      "    3) Multiplicación\n",
      "    4) Salir\n",
      "1\n",
      "24\n",
      "Ingrese su opción:\n",
      "    1) Suma\n",
      "    2) Resta\n",
      "    3) Multiplicación\n",
      "    4) Salir\n",
      "2\n",
      "0\n",
      "Ingrese su opción:\n",
      "    1) Suma\n",
      "    2) Resta\n",
      "    3) Multiplicación\n",
      "    4) Salir\n",
      "3\n",
      "144\n",
      "Ingrese su opción:\n",
      "    1) Suma\n",
      "    2) Resta\n",
      "    3) Multiplicación\n",
      "    4) Salir\n",
      "4\n"
     ]
    }
   ],
   "source": [
    "# Completa el ejercicio aquí\n",
    "num1 = int(input(\"Ingrese número 1:\"))\n",
    "num2 = int(input(\"Ingrese número 2:\"))\n",
    "while(True):\n",
    "    print(\"\"\"Ingrese su opción:\n",
    "    1) Suma\n",
    "    2) Resta\n",
    "    3) Multiplicación\n",
    "    4) Salir\"\"\")\n",
    "    opcion = int(input())\n",
    "    if(opcion ==1):\n",
    "        print(num1+num2)\n",
    "        \n",
    "    elif(opcion == 2):\n",
    "        print(num1-num2)\n",
    "        \n",
    "    elif(opcion == 3):\n",
    "        print(num1*num2)\n",
    "    elif(opcion == 4):\n",
    "        break\n",
    "    else:\n",
    "        \"Opción inválida\"\n"
   ]
  },
  {
   "cell_type": "markdown",
   "metadata": {},
   "source": [
    "**2) Realiza un programa que lea un número impar por teclado. Si el usuario no introduce un número impar, debe repetise el proceso hasta que lo introduzca correctamente.**"
   ]
  },
  {
   "cell_type": "code",
   "execution_count": null,
   "metadata": {},
   "outputs": [
    {
     "name": "stdout",
     "output_type": "stream",
     "text": [
      "Introduce un número2\n",
      "Introduce un número4\n",
      "Introduce un número6\n"
     ]
    }
   ],
   "source": [
    "# Completa el ejercicio aquí\n",
    "numero = 0\n",
    "while numero %2 == 0:\n",
    "    numero = int(input(\"Introduce un número\"))"
   ]
  },
  {
   "cell_type": "markdown",
   "metadata": {},
   "source": [
    "**3) Realiza un programa que sume todos los números enteros pares desde el 0 hasta el 100:**\n",
    "\n",
    "*Sugerencia: Puedes utilizar la funciones sum() y range() para hacerlo más fácil. El tercer parámetro en la función range(inicio, fin, salto) indica un salto de números, pruébalo.*"
   ]
  },
  {
   "cell_type": "code",
   "execution_count": 2,
   "metadata": {},
   "outputs": [
    {
     "data": {
      "text/plain": [
       "2550"
      ]
     },
     "execution_count": 2,
     "metadata": {},
     "output_type": "execute_result"
    }
   ],
   "source": [
    "# Completa el ejercicio aquí\n",
    "sum(range(0,101,2))\n"
   ]
  },
  {
   "cell_type": "markdown",
   "metadata": {},
   "source": [
    "**4) Realiza un programa que pida al usuario cuantos números quiere introducir. Luego lee todos los números y realiza una media aritmética:**\n"
   ]
  },
  {
   "cell_type": "code",
   "execution_count": 4,
   "metadata": {},
   "outputs": [
    {
     "name": "stdout",
     "output_type": "stream",
     "text": [
      "Ingrese cuántos números desea introducir: 3\n",
      "Ingrese numero 1\n",
      "Ingrese numero 1\n",
      "Ingrese numero 1\n",
      "3\n",
      "Media es:  1.0\n"
     ]
    }
   ],
   "source": [
    "# Completa el ejercicio aquí\n",
    "opcion = int(input(\"Ingrese cuántos números desea introducir: \"))\n",
    "indice = 1\n",
    "suma = 0\n",
    "while indice <= opcion:\n",
    "    suma += int(input(\"Ingrese numero \"))\n",
    "    indice += 1\n",
    "print(suma)\n",
    "suma = suma / opcion\n",
    "print(\"Media es: \", suma)"
   ]
  },
  {
   "cell_type": "markdown",
   "metadata": {},
   "source": [
    "**5) Realiza un programa que pida al usuario un número entero del 0 al 9, y que mientras el número no sea correcto se repita el proceso. Luego debe comprobar si el número se encuentra en la lista de números y notificarlo:**\n",
    "\n",
    "*Consejo: La sintaxis \"valor in lista\" permite comprobar fácilmente si un valor se encuentra en una lista (devuelve True o False)*"
   ]
  },
  {
   "cell_type": "code",
   "execution_count": null,
   "metadata": {},
   "outputs": [],
   "source": [
    "# Completa el ejercicio aquí\n",
    "numeros = [1, 3, 6, 9]\n",
    "while(True):\n",
    "    valor_introducido = int(input(\"Ingrese valor:\"))\n",
    "    if(valor_introducido>=0 and valor_introducido<=9):\n",
    "        if(valor_introducido in numeros):\n",
    "            print(\"Valor si se encuentra en listado.\")\n",
    "            break\n",
    "        else:\n",
    "            print(\"Valor no se encuentra en la lista.\")"
   ]
  },
  {
   "cell_type": "markdown",
   "metadata": {},
   "source": [
    "**6) Utilizando la función range() y la conversión a listas genera las siguientes listas dinámicamente:**\n",
    "* Todos los números del 0 al 10 [0, 1, 2, ..., 10]\n",
    "* Todos los números del -10 al 0 [-10, -9, -8, ..., 0]\n",
    "* Todos los números pares del 0 al 20 [0, 2, 4, ..., 20]\n",
    "* Todos los números impares entre -20 y 0 [-19, -17, -15, ..., -1]\n",
    "* Todos los números múltiples de 5 del 0 al 50 [0, 5, 10, ..., 50]\n",
    "\n",
    "*Pista: Utiliza el tercer parámetro de la función range(inicio, fin, salto).*"
   ]
  },
  {
   "cell_type": "code",
   "execution_count": 23,
   "metadata": {},
   "outputs": [
    {
     "name": "stdout",
     "output_type": "stream",
     "text": [
      "[0, 1, 2, 3, 4, 5, 6, 7, 8, 9, 10]\n",
      "[-10, -9, -8, -7, -6, -5, -4, -3, -2, -1, 0]\n",
      "[0, 2, 4, 6, 8, 10, 12, 14, 16, 18, 20]\n",
      "[-19, -17, -15, -13, -11, -9, -7, -5, -3, -1]\n",
      "[5, 10, 15, 20, 25, 30, 35, 40, 45, 50]\n"
     ]
    }
   ],
   "source": [
    "# Completa el ejercicio\n",
    "print(list(range(0,11)))\n",
    "print(list(range(-10,1)))\n",
    "print(list(range(0,21,2)))\n",
    "print(list(range(-19,0,2)))\n",
    "print(list(range(5,51,5)))\n"
   ]
  },
  {
   "cell_type": "markdown",
   "metadata": {},
   "source": [
    "**7) Dadas dos listas, debes generar una tercera con todos los elementos que se repitan en ellas, pero no debe repetise ningún elemento en la nueva lista:**"
   ]
  },
  {
   "cell_type": "code",
   "execution_count": 27,
   "metadata": {},
   "outputs": [
    {
     "data": {
      "text/plain": [
       "[5]"
      ]
     },
     "execution_count": 27,
     "metadata": {},
     "output_type": "execute_result"
    }
   ],
   "source": [
    "# Completa el ejercicio aquí\n",
    "lista1 = [1,2,3,4,5,5,5,5]\n",
    "lista2 = [5,6,7,8,9]\n",
    "lista3 =[]\n",
    "for elemento1 in lista1:\n",
    "    if(elemento1 in lista2 and not elemento1 in lista3):\n",
    "        lista3.append(elemento1)\n",
    "lista3"
   ]
  },
  {
   "cell_type": "code",
   "execution_count": null,
   "metadata": {},
   "outputs": [],
   "source": []
  }
 ],
 "metadata": {
  "anaconda-cloud": {},
  "kernelspec": {
   "display_name": "Python 3",
   "language": "python",
   "name": "python3"
  },
  "language_info": {
   "codemirror_mode": {
    "name": "ipython",
    "version": 3
   },
   "file_extension": ".py",
   "mimetype": "text/x-python",
   "name": "python",
   "nbconvert_exporter": "python",
   "pygments_lexer": "ipython3",
   "version": "3.6.5"
  }
 },
 "nbformat": 4,
 "nbformat_minor": 1
}
