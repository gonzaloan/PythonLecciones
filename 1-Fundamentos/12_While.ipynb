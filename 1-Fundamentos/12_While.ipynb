{
 "cells": [
  {
   "cell_type": "code",
   "execution_count": 5,
   "metadata": {},
   "outputs": [
    {
     "name": "stdout",
     "output_type": "stream",
     "text": [
      "1\n",
      "2\n",
      "3\n",
      "4\n",
      "5\n",
      "6\n",
      "7\n",
      "8\n",
      "9\n",
      "10\n",
      "Se completó el while.\n"
     ]
    }
   ],
   "source": [
    "c= 1\n",
    "while(c<=10):\n",
    "    print(c)\n",
    "    c+=1\n",
    "else: #Se ejecuta cuando se finaliza el while\n",
    "     print(\"Se completó el while.\")"
   ]
  },
  {
   "cell_type": "code",
   "execution_count": 6,
   "metadata": {},
   "outputs": [
    {
     "name": "stdout",
     "output_type": "stream",
     "text": [
      "1\n",
      "2\n",
      "3\n",
      "4\n",
      "rompemos bucle.\n"
     ]
    }
   ],
   "source": [
    "#Uso de break\n",
    "c=0\n",
    "while(c<=10):\n",
    "    c+=1\n",
    "    if(c==5):\n",
    "        print(\"rompemos bucle.\")\n",
    "        break\n",
    "    print(c)\n",
    "else:\n",
    "    print(\"Fin de bucle.\")\n",
    "#No se muestra el else si se ejecuta el break"
   ]
  },
  {
   "cell_type": "code",
   "execution_count": 8,
   "metadata": {},
   "outputs": [
    {
     "name": "stdout",
     "output_type": "stream",
     "text": [
      "1\n",
      "2\n",
      "3\n",
      "4\n",
      "CONTINUE bucle.\n",
      "6\n",
      "7\n",
      "8\n",
      "9\n",
      "10\n",
      "11\n",
      "Fin de bucle.\n"
     ]
    }
   ],
   "source": [
    "#Uso de continue\n",
    "c=0\n",
    "while(c<=10):\n",
    "    c+=1\n",
    "    if(c==5):\n",
    "        print(\"CONTINUE bucle.\")\n",
    "        continue\n",
    "    print(c)\n",
    "else:\n",
    "    print(\"Fin de bucle.\")\n",
    "#No se muestra el else si se ejecuta el break"
   ]
  },
  {
   "cell_type": "code",
   "execution_count": 10,
   "metadata": {},
   "outputs": [
    {
     "name": "stdout",
     "output_type": "stream",
     "text": [
      "Bienvenido a menú:\n",
      " Qué quieres hacer?, selecciona una opción:\n",
      "        1) Saludar\n",
      "        2) Sumar dos números\n",
      "        3) Salir\n",
      "    \n",
      "1\n",
      "Hola\n",
      " Qué quieres hacer?, selecciona una opción:\n",
      "        1) Saludar\n",
      "        2) Sumar dos números\n",
      "        3) Salir\n",
      "    \n",
      "2\n",
      "Número 1:1\n",
      "Número 2:1\n",
      "2.0\n",
      " Qué quieres hacer?, selecciona una opción:\n",
      "        1) Saludar\n",
      "        2) Sumar dos números\n",
      "        3) Salir\n",
      "    \n",
      "3\n",
      "Adiós\n"
     ]
    }
   ],
   "source": [
    "print(\"Bienvenido a menú:\")\n",
    "while(True):\n",
    "    print(\"\"\" Qué quieres hacer?, selecciona una opción:\n",
    "        1) Saludar\n",
    "        2) Sumar dos números\n",
    "        3) Salir\n",
    "    \"\"\")\n",
    "    opcion = input()\n",
    "    if(opcion=='1'):\n",
    "        print(\"Hola\")\n",
    "    elif(opcion=='2'):\n",
    "        n1= float(input(\"Número 1:\"))\n",
    "        n2= float(input(\"Número 2:\"))\n",
    "        print(n1+n2)\n",
    "    elif(opcion =='3'):\n",
    "        print(\"Adiós\")\n",
    "        break\n",
    "    else:\n",
    "        print(\"Opción no válida.\")\n"
   ]
  },
  {
   "cell_type": "code",
   "execution_count": null,
   "metadata": {},
   "outputs": [],
   "source": []
  }
 ],
 "metadata": {
  "kernelspec": {
   "display_name": "Python 3",
   "language": "python",
   "name": "python3"
  },
  "language_info": {
   "codemirror_mode": {
    "name": "ipython",
    "version": 3
   },
   "file_extension": ".py",
   "mimetype": "text/x-python",
   "name": "python",
   "nbconvert_exporter": "python",
   "pygments_lexer": "ipython3",
   "version": "3.6.5"
  }
 },
 "nbformat": 4,
 "nbformat_minor": 2
}
