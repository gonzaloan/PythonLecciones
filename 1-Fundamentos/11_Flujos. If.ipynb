{
 "cells": [
  {
   "cell_type": "code",
   "execution_count": 3,
   "metadata": {},
   "outputs": [],
   "source": [
    "#Condicional IF\n",
    "if True:\n",
    "    print(\"Se cumple la condición\")\n",
    "    print(\"Esta linea también se ejecuta\")"
   ]
  },
  {
   "cell_type": "code",
   "execution_count": 4,
   "metadata": {},
   "outputs": [
    {
     "name": "stdout",
     "output_type": "stream",
     "text": [
      "a vale 5\n"
     ]
    }
   ],
   "source": [
    "a = 5\n",
    "if a==2:\n",
    "    print(\"A es 2\")\n",
    "if a==5:\n",
    "    print(\"a vale 5\")"
   ]
  },
  {
   "cell_type": "code",
   "execution_count": 5,
   "metadata": {},
   "outputs": [
    {
     "name": "stdout",
     "output_type": "stream",
     "text": [
      "a es: 5\n",
      "y b vale: 10\n"
     ]
    }
   ],
   "source": [
    "a = 5\n",
    "b = 10\n",
    "if a == 5:\n",
    "    print (\"a es:\",a)\n",
    "    if b==10:\n",
    "        print(\"y b vale:\",b)\n"
   ]
  },
  {
   "cell_type": "code",
   "execution_count": 6,
   "metadata": {},
   "outputs": [
    {
     "name": "stdout",
     "output_type": "stream",
     "text": [
      "a vale 5 y b vale 10\n"
     ]
    }
   ],
   "source": [
    "if a==5 and b==10:\n",
    "    print(\"a vale 5 y b vale 10\")"
   ]
  },
  {
   "cell_type": "code",
   "execution_count": 8,
   "metadata": {},
   "outputs": [
    {
     "name": "stdout",
     "output_type": "stream",
     "text": [
      "ingrese un número.9\n",
      "9 es un impar.\n"
     ]
    }
   ],
   "source": [
    "#if y else\n",
    "n= int(input(\"ingrese un número.\"))\n",
    "if n%2 == 0:\n",
    "    print(n, \"es un número par.\")\n",
    "else:\n",
    "    print(n, \"es un impar.\")"
   ]
  },
  {
   "cell_type": "code",
   "execution_count": 11,
   "metadata": {},
   "outputs": [
    {
     "name": "stdout",
     "output_type": "stream",
     "text": [
      "No válido\n"
     ]
    }
   ],
   "source": [
    "#elif\n",
    "comando = \"mwen\"\n",
    "if comando == \"ENTRAR\":\n",
    "    print(\"Bienvenido al sistema\")\n",
    "elif comando == \"SALUDAR\":\n",
    "    print(\"Hola qué tal?!\")\n",
    "elif comando == \"SALIR\":\n",
    "    print(\"Adiós\")\n",
    "else:\n",
    "    print(\"No válido\")\n",
    "    "
   ]
  },
  {
   "cell_type": "code",
   "execution_count": 13,
   "metadata": {},
   "outputs": [
    {
     "name": "stdout",
     "output_type": "stream",
     "text": [
      "Introduce una nota: 2\n",
      "Reprobar\n"
     ]
    }
   ],
   "source": [
    "nota = float(input(\"Introduce una nota: \"))\n",
    "if nota >=9:\n",
    "    print(\"Sobresaliente\")\n",
    "elif nota >=7:\n",
    "    print(\"Notable\")\n",
    "elif nota >=6:\n",
    "    print(\"Bien\")\n",
    "elif nota >=5:\n",
    "    print(\"Suficiente\")\n",
    "else:\n",
    "    print(\"Reprobar\")\n"
   ]
  },
  {
   "cell_type": "code",
   "execution_count": 14,
   "metadata": {},
   "outputs": [],
   "source": [
    "if True:\n",
    "    pass\n",
    "#Pasa de largo, no queremos hacer nada aún.\n"
   ]
  },
  {
   "cell_type": "code",
   "execution_count": null,
   "metadata": {},
   "outputs": [],
   "source": []
  }
 ],
 "metadata": {
  "kernelspec": {
   "display_name": "Python 3",
   "language": "python",
   "name": "python3"
  },
  "language_info": {
   "codemirror_mode": {
    "name": "ipython",
    "version": 3
   },
   "file_extension": ".py",
   "mimetype": "text/x-python",
   "name": "python",
   "nbconvert_exporter": "python",
   "pygments_lexer": "ipython3",
   "version": "3.6.5"
  }
 },
 "nbformat": 4,
 "nbformat_minor": 2
}
