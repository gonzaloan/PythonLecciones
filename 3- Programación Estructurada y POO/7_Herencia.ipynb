{
 "cells": [
  {
   "cell_type": "code",
   "execution_count": 1,
   "metadata": {},
   "outputs": [],
   "source": [
    "class Producto:\n",
    "    def __init__(self,referencia,tipo,nombre,precio,descripcion,producto=None, distribuidor=None, isbn=None,autor=None):\n",
    "        self.referencia = referencia\n",
    "        self.tipo = tipo\n",
    "        self.nombre = nombre\n",
    "        self.precio = precio\n",
    "        self.descripcion = descripcion\n",
    "        self.producto = producto\n",
    "        self.distribuidor = distribuidor\n",
    "        self.isbn = isbn\n",
    "        self.autor = autor\n",
    "\n",
    "adorno = Producto('000A','ADORNO','Vaso adornado',15,'Vaso de porcelana con dibujos')\n",
    "        \n"
   ]
  },
  {
   "cell_type": "code",
   "execution_count": 2,
   "metadata": {},
   "outputs": [
    {
     "data": {
      "text/plain": [
       "<__main__.Producto at 0x227675777b8>"
      ]
     },
     "execution_count": 2,
     "metadata": {},
     "output_type": "execute_result"
    }
   ],
   "source": [
    "adorno"
   ]
  },
  {
   "cell_type": "code",
   "execution_count": 3,
   "metadata": {},
   "outputs": [
    {
     "data": {
      "text/plain": [
       "'ADORNO'"
      ]
     },
     "execution_count": 3,
     "metadata": {},
     "output_type": "execute_result"
    }
   ],
   "source": [
    "adorno.tipo"
   ]
  },
  {
   "cell_type": "code",
   "execution_count": 4,
   "metadata": {},
   "outputs": [],
   "source": [
    "#Esto no tinee mucho sentido. Ya que no es lógico tener productos como vasos con isbn y autor. Es necesaria una jerarquía\n",
    "#Para hacer esto de mejor manera.\n",
    "#Primero hay que identificar la super clase = Producto.\n",
    "#Subclase podrían ser: Adornos, Alimento, Libro.\n"
   ]
  },
  {
   "cell_type": "code",
   "execution_count": 7,
   "metadata": {},
   "outputs": [],
   "source": [
    "class Producto:\n",
    "    def __init__(self,referencia,nombre,precio,descripcion):\n",
    "        self.referencia = referencia\n",
    "        self.nombre = nombre\n",
    "        self.precio = precio\n",
    "        self.descripcion = descripcion\n",
    "    def __str__(self):\n",
    "        return \"\"\"\\\n",
    "REFERENCIA\\t{}\n",
    "NOMBRE\\t{}\n",
    "PRECIO\\t{}\n",
    "DESCRIPCION\\t{}\n",
    "\"\"\".format(self.referencia,self.nombre,self.precio,self.descripcion)\n",
    "\n",
    "#Subclase\n",
    "class Adorno(Producto):\n",
    "    pass\n",
    "\n",
    "a = Adorno(2023,'Vaso adornado', 15, 'Vaso de porcelana adornado con dibujos')"
   ]
  },
  {
   "cell_type": "code",
   "execution_count": 8,
   "metadata": {},
   "outputs": [
    {
     "name": "stdout",
     "output_type": "stream",
     "text": [
      "REFERENCIA\t2023\n",
      "NOMBRE\tVaso adornado\n",
      "PRECIO\t15\n",
      "DESCRIPCION\tVaso de porcelana adornado con dibujos\n",
      "\n"
     ]
    }
   ],
   "source": [
    "print(a)"
   ]
  },
  {
   "cell_type": "code",
   "execution_count": 10,
   "metadata": {},
   "outputs": [],
   "source": [
    "class Alimento(Producto):\n",
    "    productor = ''\n",
    "    distribuidor = ''\n",
    "    def __str__(self):\n",
    "        return \"\"\"\\\n",
    "REFERENCIA\\t{}\n",
    "NOMBRE\\t{}\n",
    "PRECIO\\t{}\n",
    "DESCRIPCION\\t{}\n",
    "PRODUCTOR\\t{}\n",
    "DISTRIBUIDOR\\t{}\n",
    "\"\"\".format(self.referencia,self.nombre,self.precio,self.descripcion,self.productor,self.distribuidor)\n",
    "al = Alimento(2024,'Botella de Cerveza',5,'250ml')\n",
    "al.productor = 'Kross'\n",
    "al.distribuidor = 'Cervecería Kross'"
   ]
  },
  {
   "cell_type": "code",
   "execution_count": 11,
   "metadata": {},
   "outputs": [
    {
     "name": "stdout",
     "output_type": "stream",
     "text": [
      "REFERENCIA\t2024\n",
      "NOMBRE\tBotella de Cerveza\n",
      "PRECIO\t5\n",
      "DESCRIPCION\t250ml\n",
      "PRODUCTOR\tKross\n",
      "DISTRIBUIDOR\tCervecería Kross\n",
      "\n"
     ]
    }
   ],
   "source": [
    "print(al)"
   ]
  },
  {
   "cell_type": "code",
   "execution_count": 12,
   "metadata": {},
   "outputs": [],
   "source": [
    "class Libro(Producto):\n",
    "    isbn = ''\n",
    "    autor = ''\n",
    "    def __str__(self):\n",
    "        return \"\"\"\\\n",
    "REFERENCIA\\t{}\n",
    "NOMBRE\\t{}\n",
    "PRECIO\\t{}\n",
    "DESCRIPCION\\t{}\n",
    "ISBN\\t{}\n",
    "AUTOR\\t{}\n",
    "\"\"\".format(self.referencia,self.nombre,self.precio,self.descripcion,self.isbn,self.autor)\n"
   ]
  },
  {
   "cell_type": "code",
   "execution_count": 14,
   "metadata": {},
   "outputs": [],
   "source": [
    "libro = Libro(2025,'IT',20,'Libro de terror')\n",
    "libro.isbn = 666\n",
    "libro.autor = 'Stephen King'"
   ]
  },
  {
   "cell_type": "code",
   "execution_count": 15,
   "metadata": {},
   "outputs": [
    {
     "name": "stdout",
     "output_type": "stream",
     "text": [
      "REFERENCIA\t2025\n",
      "NOMBRE\tIT\n",
      "PRECIO\t20\n",
      "DESCRIPCION\tLibro de terror\n",
      "ISBN\t666\n",
      "AUTOR\tStephen King\n",
      "\n"
     ]
    }
   ],
   "source": [
    "print(libro)"
   ]
  },
  {
   "cell_type": "code",
   "execution_count": null,
   "metadata": {},
   "outputs": [],
   "source": []
  }
 ],
 "metadata": {
  "kernelspec": {
   "display_name": "Python 3",
   "language": "python",
   "name": "python3"
  },
  "language_info": {
   "codemirror_mode": {
    "name": "ipython",
    "version": 3
   },
   "file_extension": ".py",
   "mimetype": "text/x-python",
   "name": "python",
   "nbconvert_exporter": "python",
   "pygments_lexer": "ipython3",
   "version": "3.6.5"
  }
 },
 "nbformat": 4,
 "nbformat_minor": 2
}
