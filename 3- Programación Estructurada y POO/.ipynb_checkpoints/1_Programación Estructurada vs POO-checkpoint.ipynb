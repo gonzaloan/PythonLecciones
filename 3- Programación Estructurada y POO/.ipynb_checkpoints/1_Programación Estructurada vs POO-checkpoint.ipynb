{
 "cells": [
  {
   "cell_type": "code",
   "execution_count": 1,
   "metadata": {},
   "outputs": [],
   "source": [
    "#Programación Estructurada.\n",
    "\n",
    "#Problemática: Queremos hacer un mantenedor de clientes.\n",
    "#Estructurada:\n",
    "clientes = [\n",
    "    {'Nombre':'Gonzalo', 'Apellidos':'Muñoz Mendez', 'RUN':\"123123123-9\"},\n",
    "    {'Nombre':'Chancho', 'Apellidos':'Muñoz Contreras', 'RUN':\"AAAAAAA-9\"}\n",
    "]"
   ]
  },
  {
   "cell_type": "code",
   "execution_count": 2,
   "metadata": {},
   "outputs": [
    {
     "data": {
      "text/plain": [
       "[{'Nombre': 'Gonzalo', 'Apellidos': 'Muñoz Mendez', 'RUN': '123123123-9'},\n",
       " {'Nombre': 'Chancho', 'Apellidos': 'Muñoz Contreras', 'RUN': 'AAAAAAA-9'}]"
      ]
     },
     "execution_count": 2,
     "metadata": {},
     "output_type": "execute_result"
    }
   ],
   "source": [
    "clientes"
   ]
  },
  {
   "cell_type": "code",
   "execution_count": 6,
   "metadata": {},
   "outputs": [],
   "source": [
    "#Mostrar información de cliente según su rut\n",
    "def mostrar_cliente(clientes, run):\n",
    "    for c in clientes:\n",
    "        if(run == c['RUN']):\n",
    "            print('{} {}'.format(c['Nombre'],c['Apellidos']))\n",
    "            return\n",
    "    print(\"Cliente no encontrado\")"
   ]
  },
  {
   "cell_type": "code",
   "execution_count": 7,
   "metadata": {},
   "outputs": [
    {
     "name": "stdout",
     "output_type": "stream",
     "text": [
      "Chancho Muñoz Contreras\n"
     ]
    }
   ],
   "source": [
    "mostrar_cliente(clientes,'AAAAAAA-9')"
   ]
  },
  {
   "cell_type": "code",
   "execution_count": 10,
   "metadata": {},
   "outputs": [],
   "source": [
    "def borrar_cliente(clientes,run):\n",
    "    for i,c in enumerate(clientes):\n",
    "        if(run == c['RUN']):\n",
    "            del(clientes[i])\n",
    "            print(str(c), \" BORRADO...\")\n",
    "            return\n",
    "    print(\"Cliente no existe.\")"
   ]
  },
  {
   "cell_type": "code",
   "execution_count": 11,
   "metadata": {},
   "outputs": [
    {
     "name": "stdout",
     "output_type": "stream",
     "text": [
      "{'Nombre': 'Gonzalo', 'Apellidos': 'Muñoz Mendez', 'RUN': '123123123-9'}  BORRADO...\n"
     ]
    }
   ],
   "source": [
    "borrar_cliente(clientes,'123123123-9')"
   ]
  },
  {
   "cell_type": "code",
   "execution_count": null,
   "metadata": {},
   "outputs": [],
   "source": []
  }
 ],
 "metadata": {
  "kernelspec": {
   "display_name": "Python 3",
   "language": "python",
   "name": "python3"
  },
  "language_info": {
   "codemirror_mode": {
    "name": "ipython",
    "version": 3
   },
   "file_extension": ".py",
   "mimetype": "text/x-python",
   "name": "python",
   "nbconvert_exporter": "python",
   "pygments_lexer": "ipython3",
   "version": "3.6.5"
  }
 },
 "nbformat": 4,
 "nbformat_minor": 2
}
