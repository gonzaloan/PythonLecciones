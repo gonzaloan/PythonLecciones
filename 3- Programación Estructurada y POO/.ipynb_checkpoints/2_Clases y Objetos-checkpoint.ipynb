{
 "cells": [
  {
   "cell_type": "code",
   "execution_count": 1,
   "metadata": {},
   "outputs": [],
   "source": [
    "#La clase:\n",
    "class Galleta:\n",
    "    pass"
   ]
  },
  {
   "cell_type": "code",
   "execution_count": 2,
   "metadata": {},
   "outputs": [],
   "source": [
    "una_galleta = Galleta()"
   ]
  },
  {
   "cell_type": "code",
   "execution_count": 3,
   "metadata": {},
   "outputs": [],
   "source": [
    "otra_galleta = Galleta()"
   ]
  },
  {
   "cell_type": "code",
   "execution_count": 4,
   "metadata": {},
   "outputs": [
    {
     "data": {
      "text/plain": [
       "__main__.Galleta"
      ]
     },
     "execution_count": 4,
     "metadata": {},
     "output_type": "execute_result"
    }
   ],
   "source": [
    "type(una_galleta)"
   ]
  },
  {
   "cell_type": "code",
   "execution_count": 5,
   "metadata": {},
   "outputs": [
    {
     "data": {
      "text/plain": [
       "str"
      ]
     },
     "execution_count": 5,
     "metadata": {},
     "output_type": "execute_result"
    }
   ],
   "source": [
    "type(\"Hola\")"
   ]
  },
  {
   "cell_type": "code",
   "execution_count": 7,
   "metadata": {},
   "outputs": [
    {
     "data": {
      "text/plain": [
       "float"
      ]
     },
     "execution_count": 7,
     "metadata": {},
     "output_type": "execute_result"
    }
   ],
   "source": [
    "type(3.14)"
   ]
  },
  {
   "cell_type": "code",
   "execution_count": 8,
   "metadata": {},
   "outputs": [],
   "source": [
    "#Ahora podemos agregar atributos a la galleta.\n",
    "una_galleta.sabor= \"Dulce\""
   ]
  },
  {
   "cell_type": "code",
   "execution_count": 9,
   "metadata": {},
   "outputs": [],
   "source": [
    "una_galleta.color = \"Choco\""
   ]
  },
  {
   "cell_type": "code",
   "execution_count": 10,
   "metadata": {},
   "outputs": [
    {
     "name": "stdout",
     "output_type": "stream",
     "text": [
      "Dulce\n"
     ]
    }
   ],
   "source": [
    "print(una_galleta.sabor)"
   ]
  },
  {
   "cell_type": "code",
   "execution_count": 11,
   "metadata": {},
   "outputs": [],
   "source": [
    "class Galleta:\n",
    "    #por defecto\n",
    "    chocolate = False\n",
    "#Las galletas no tienen chocolate por defecto"
   ]
  },
  {
   "cell_type": "code",
   "execution_count": 12,
   "metadata": {},
   "outputs": [],
   "source": [
    "g = Galleta()"
   ]
  },
  {
   "cell_type": "code",
   "execution_count": 13,
   "metadata": {},
   "outputs": [
    {
     "data": {
      "text/plain": [
       "False"
      ]
     },
     "execution_count": 13,
     "metadata": {},
     "output_type": "execute_result"
    }
   ],
   "source": [
    "g.chocolate"
   ]
  },
  {
   "cell_type": "code",
   "execution_count": 15,
   "metadata": {},
   "outputs": [
    {
     "name": "stdout",
     "output_type": "stream",
     "text": [
      "Se acaba de crear una galleta\n"
     ]
    }
   ],
   "source": [
    "#\n",
    "class Galleta():\n",
    "    chocolate = False\n",
    "    \n",
    "    def __init__(self):\n",
    "        print(\"Se acaba de crear una galleta\")\n",
    "\n",
    "g = Galleta()"
   ]
  },
  {
   "cell_type": "code",
   "execution_count": 16,
   "metadata": {},
   "outputs": [
    {
     "name": "stdout",
     "output_type": "stream",
     "text": [
      "Se acaba de crear una galleta\n"
     ]
    },
    {
     "data": {
      "text/plain": [
       "False"
      ]
     },
     "execution_count": 16,
     "metadata": {},
     "output_type": "execute_result"
    }
   ],
   "source": [
    "class Galleta():\n",
    "    chocolate = False\n",
    "    \n",
    "    def __init__(self):\n",
    "        print(\"Se acaba de crear una galleta\")\n",
    "    def chocolatear(self):\n",
    "        chocolate = True\n",
    "g = Galleta()\n",
    "g.chocolatear()\n",
    "g.chocolate"
   ]
  },
  {
   "cell_type": "code",
   "execution_count": 18,
   "metadata": {},
   "outputs": [
    {
     "name": "stdout",
     "output_type": "stream",
     "text": [
      "Se acaba de crear una galleta\n",
      "Soy una galleta con chocolate\n"
     ]
    }
   ],
   "source": [
    "#Chocolate no cambió... Para esto es necesario que al momento de chocolatear se llame al atributo de clase\n",
    "#Esto se hace así:\n",
    "\n",
    "class Galleta():\n",
    "    chocolate = False\n",
    "    \n",
    "    def __init__(self):\n",
    "        print(\"Se acaba de crear una galleta\")\n",
    "    def chocolatear(self):\n",
    "        self.chocolate = True\n",
    "    def tiene_chocolate(self):\n",
    "        if(self.chocolate):\n",
    "            print(\"Soy una galleta con chocolate\")\n",
    "        else:\n",
    "            print(\"No tengo chocolate :(\")\n",
    "g = Galleta()\n",
    "g.chocolatear()\n",
    "g.tiene_chocolate()"
   ]
  },
  {
   "cell_type": "code",
   "execution_count": 22,
   "metadata": {},
   "outputs": [
    {
     "name": "stdout",
     "output_type": "stream",
     "text": [
      "Se acaba de crear una galleta dulce y Amarilla\n",
      "Soy una galleta con chocolate\n"
     ]
    }
   ],
   "source": [
    "class Galleta():\n",
    "    chocolate = False\n",
    "    \n",
    "    def __init__(self, sabor, color):\n",
    "        self.sabor = sabor\n",
    "        self.color = color \n",
    "        print(\"Se acaba de crear una galleta {} y {}\".format(sabor,color))\n",
    "    def chocolatear(self):\n",
    "        self.chocolate = True\n",
    "    def tiene_chocolate(self):\n",
    "        if(self.chocolate):\n",
    "            print(\"Soy una galleta con chocolate\")\n",
    "        else:\n",
    "            print(\"No tengo chocolate :(\")\n",
    "g = Galleta(\"dulce\",\"Amarilla\")\n",
    "g.chocolatear()\n",
    "g.tiene_chocolate()"
   ]
  },
  {
   "cell_type": "code",
   "execution_count": 23,
   "metadata": {},
   "outputs": [
    {
     "ename": "TypeError",
     "evalue": "__init__() missing 2 required positional arguments: 'sabor' and 'color'",
     "output_type": "error",
     "traceback": [
      "\u001b[1;31m---------------------------------------------------------------------------\u001b[0m",
      "\u001b[1;31mTypeError\u001b[0m                                 Traceback (most recent call last)",
      "\u001b[1;32m<ipython-input-23-c853cc8cfc8c>\u001b[0m in \u001b[0;36m<module>\u001b[1;34m()\u001b[0m\n\u001b[0;32m      1\u001b[0m \u001b[1;31m#Esto nos obliga a crear el elemento con argumentos\u001b[0m\u001b[1;33m\u001b[0m\u001b[1;33m\u001b[0m\u001b[0m\n\u001b[1;32m----> 2\u001b[1;33m \u001b[0mg\u001b[0m \u001b[1;33m=\u001b[0m \u001b[0mGalleta\u001b[0m\u001b[1;33m(\u001b[0m\u001b[1;33m)\u001b[0m \u001b[1;31m#ERROR\u001b[0m\u001b[1;33m\u001b[0m\u001b[0m\n\u001b[0m",
      "\u001b[1;31mTypeError\u001b[0m: __init__() missing 2 required positional arguments: 'sabor' and 'color'"
     ]
    }
   ],
   "source": [
    "#Esto nos obliga a crear el elemento con argumentos\n",
    "g = Galleta() #ERROR\n",
    "#Se soluciona dando valores por defecto"
   ]
  },
  {
   "cell_type": "code",
   "execution_count": 26,
   "metadata": {},
   "outputs": [
    {
     "name": "stdout",
     "output_type": "stream",
     "text": [
      "Se crea una galleta sin nada\n",
      "Soy una galleta con chocolate\n"
     ]
    }
   ],
   "source": [
    "class Galleta():\n",
    "    chocolate = False\n",
    "    \n",
    "    def __init__(self, sabor=None, color=None):\n",
    "        self.sabor = sabor\n",
    "        self.color = color \n",
    "        if(sabor is not None and color is not None):\n",
    "            print(\"Se acaba de crear una galleta {} y {}\".format(sabor,color))\n",
    "        else:\n",
    "            print(\"Se crea una galleta sin nada\")\n",
    "    def chocolatear(self):\n",
    "        self.chocolate = True\n",
    "    def tiene_chocolate(self):\n",
    "        if(self.chocolate):\n",
    "            print(\"Soy una galleta con chocolate\")\n",
    "        else:\n",
    "            print(\"No tengo chocolate :(\")\n",
    "g = Galleta()\n",
    "g.chocolatear()\n",
    "g.tiene_chocolate()"
   ]
  },
  {
   "cell_type": "code",
   "execution_count": null,
   "metadata": {},
   "outputs": [],
   "source": []
  },
  {
   "cell_type": "code",
   "execution_count": null,
   "metadata": {},
   "outputs": [],
   "source": []
  }
 ],
 "metadata": {
  "kernelspec": {
   "display_name": "Python 3",
   "language": "python",
   "name": "python3"
  },
  "language_info": {
   "codemirror_mode": {
    "name": "ipython",
    "version": 3
   },
   "file_extension": ".py",
   "mimetype": "text/x-python",
   "name": "python",
   "nbconvert_exporter": "python",
   "pygments_lexer": "ipython3",
   "version": "3.6.5"
  }
 },
 "nbformat": 4,
 "nbformat_minor": 2
}
