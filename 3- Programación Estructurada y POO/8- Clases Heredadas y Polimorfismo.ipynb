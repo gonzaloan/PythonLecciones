{
 "cells": [
  {
   "cell_type": "code",
   "execution_count": 1,
   "metadata": {},
   "outputs": [],
   "source": [
    "class Producto:\n",
    "    def __init__(self,referencia,nombre,precio,descripcion):\n",
    "        self.referencia = referencia\n",
    "        self.nombre = nombre\n",
    "        self.precio = precio\n",
    "        self.descripcion = descripcion\n",
    "    def __str__(self):\n",
    "        return \"\"\"\\\n",
    "REFERENCIA\\t{}\n",
    "NOMBRE\\t{}\n",
    "PRECIO\\t{}\n",
    "DESCRIPCION\\t{}\n",
    "\"\"\".format(self.referencia,self.nombre,self.precio,self.descripcion)\n",
    "\n",
    "#Subclase\n",
    "class Adorno(Producto):\n",
    "    pass\n",
    "\n",
    "class Alimento(Producto):\n",
    "    productor = ''\n",
    "    distribuidor = ''\n",
    "    def __str__(self):\n",
    "        return \"\"\"\\\n",
    "REFERENCIA\\t{}\n",
    "NOMBRE\\t{}\n",
    "PRECIO\\t{}\n",
    "DESCRIPCION\\t{}\n",
    "PRODUCTOR\\t{}\n",
    "DISTRIBUIDOR\\t{}\n",
    "\"\"\".format(self.referencia,self.nombre,self.precio,self.descripcion,self.productor,self.distribuidor)\n",
    "\n",
    "class Libro(Producto):\n",
    "    isbn = ''\n",
    "    autor = ''\n",
    "    def __str__(self):\n",
    "        return \"\"\"\\\n",
    "REFERENCIA\\t{}\n",
    "NOMBRE\\t{}\n",
    "PRECIO\\t{}\n",
    "DESCRIPCION\\t{}\n",
    "ISBN\\t{}\n",
    "AUTOR\\t{}\n",
    "\"\"\".format(self.referencia,self.nombre,self.precio,self.descripcion,self.isbn,self.autor)"
   ]
  },
  {
   "cell_type": "code",
   "execution_count": 2,
   "metadata": {},
   "outputs": [],
   "source": [
    "a = Adorno(2023,'Vaso adornado', 15, 'Vaso de porcelana adornado con dibujos')\n",
    "al = Alimento(2024,'Botella de Cerveza',5,'250ml')\n",
    "al.productor = 'Kross'\n",
    "al.distribuidor = 'Cervecería Kross'\n",
    "libro = Libro(2025,'IT',20,'Libro de terror')\n",
    "libro.isbn = 666\n",
    "libro.autor = 'Stephen King'"
   ]
  },
  {
   "cell_type": "code",
   "execution_count": 3,
   "metadata": {},
   "outputs": [],
   "source": [
    "productos = [a,al]"
   ]
  },
  {
   "cell_type": "code",
   "execution_count": 4,
   "metadata": {},
   "outputs": [],
   "source": [
    "productos.append(libro)"
   ]
  },
  {
   "cell_type": "code",
   "execution_count": 5,
   "metadata": {},
   "outputs": [
    {
     "data": {
      "text/plain": [
       "[<__main__.Adorno at 0x23d4b2c9400>,\n",
       " <__main__.Alimento at 0x23d4b2c9438>,\n",
       " <__main__.Libro at 0x23d4b2c94a8>]"
      ]
     },
     "execution_count": 5,
     "metadata": {},
     "output_type": "execute_result"
    }
   ],
   "source": [
    "productos"
   ]
  },
  {
   "cell_type": "code",
   "execution_count": 6,
   "metadata": {},
   "outputs": [
    {
     "name": "stdout",
     "output_type": "stream",
     "text": [
      "REFERENCIA\t2023\n",
      "NOMBRE\tVaso adornado\n",
      "PRECIO\t15\n",
      "DESCRIPCION\tVaso de porcelana adornado con dibujos\n",
      " \n",
      "\n",
      "REFERENCIA\t2024\n",
      "NOMBRE\tBotella de Cerveza\n",
      "PRECIO\t5\n",
      "DESCRIPCION\t250ml\n",
      "PRODUCTOR\tKross\n",
      "DISTRIBUIDOR\tCervecería Kross\n",
      " \n",
      "\n",
      "REFERENCIA\t2025\n",
      "NOMBRE\tIT\n",
      "PRECIO\t20\n",
      "DESCRIPCION\tLibro de terror\n",
      "ISBN\t666\n",
      "AUTOR\tStephen King\n",
      " \n",
      "\n"
     ]
    }
   ],
   "source": [
    "for p in productos:\n",
    "    print(p,'\\n')"
   ]
  },
  {
   "cell_type": "code",
   "execution_count": 7,
   "metadata": {},
   "outputs": [
    {
     "name": "stdout",
     "output_type": "stream",
     "text": [
      "2023 Vaso adornado\n",
      "2024 Botella de Cerveza\n",
      "2025 IT\n"
     ]
    }
   ],
   "source": [
    "for p in productos:\n",
    "    print(p.referencia, p.nombre)"
   ]
  },
  {
   "cell_type": "code",
   "execution_count": 8,
   "metadata": {},
   "outputs": [
    {
     "ename": "AttributeError",
     "evalue": "'Adorno' object has no attribute 'autor'",
     "output_type": "error",
     "traceback": [
      "\u001b[1;31m---------------------------------------------------------------------------\u001b[0m",
      "\u001b[1;31mAttributeError\u001b[0m                            Traceback (most recent call last)",
      "\u001b[1;32m<ipython-input-8-24a4905ae8cd>\u001b[0m in \u001b[0;36m<module>\u001b[1;34m()\u001b[0m\n\u001b[0;32m      1\u001b[0m \u001b[1;32mfor\u001b[0m \u001b[0mp\u001b[0m \u001b[1;32min\u001b[0m \u001b[0mproductos\u001b[0m\u001b[1;33m:\u001b[0m\u001b[1;33m\u001b[0m\u001b[0m\n\u001b[1;32m----> 2\u001b[1;33m     \u001b[0mprint\u001b[0m\u001b[1;33m(\u001b[0m\u001b[0mp\u001b[0m\u001b[1;33m.\u001b[0m\u001b[0mautor\u001b[0m\u001b[1;33m)\u001b[0m\u001b[1;33m\u001b[0m\u001b[0m\n\u001b[0m",
      "\u001b[1;31mAttributeError\u001b[0m: 'Adorno' object has no attribute 'autor'"
     ]
    }
   ],
   "source": [
    "for p in productos:\n",
    "    print(p.autor)"
   ]
  },
  {
   "cell_type": "code",
   "execution_count": 9,
   "metadata": {},
   "outputs": [
    {
     "name": "stdout",
     "output_type": "stream",
     "text": [
      "2023 Vaso adornado\n",
      "2024 Botella de Cerveza Kross\n",
      "2025 IT 666\n"
     ]
    }
   ],
   "source": [
    "for p in productos:\n",
    "    if ( isinstance(p, Adorno)):\n",
    "        print(p.referencia,p.nombre)\n",
    "    elif ( isinstance(p,Alimento)):\n",
    "        print(p.referencia,p.nombre,p.productor)\n",
    "    elif ( isinstance(p, Libro)):\n",
    "        print(p.referencia,p.nombre,p.isbn)\n",
    "        "
   ]
  },
  {
   "cell_type": "code",
   "execution_count": 10,
   "metadata": {},
   "outputs": [],
   "source": [
    "def rebajar_producto(p, rebaja):\n",
    "    \"\"\"Devuelve un producto con una rebaja en porcentaje de su precio\"\"\"\n",
    "    p.precio = p.precio - (p.precio/100 * rebaja)\n",
    "    return p"
   ]
  },
  {
   "cell_type": "code",
   "execution_count": 11,
   "metadata": {},
   "outputs": [],
   "source": [
    "al_rebajado = rebajar_producto(a, 10)"
   ]
  },
  {
   "cell_type": "code",
   "execution_count": 12,
   "metadata": {},
   "outputs": [
    {
     "name": "stdout",
     "output_type": "stream",
     "text": [
      "REFERENCIA\t2023\n",
      "NOMBRE\tVaso adornado\n",
      "PRECIO\t13.5\n",
      "DESCRIPCION\tVaso de porcelana adornado con dibujos\n",
      "\n"
     ]
    }
   ],
   "source": [
    "print(al_rebajado)"
   ]
  },
  {
   "cell_type": "code",
   "execution_count": 13,
   "metadata": {},
   "outputs": [
    {
     "name": "stdout",
     "output_type": "stream",
     "text": [
      "REFERENCIA\t2023\n",
      "NOMBRE\tVaso adornado\n",
      "PRECIO\t13.5\n",
      "DESCRIPCION\tVaso de porcelana adornado con dibujos\n",
      "\n"
     ]
    }
   ],
   "source": [
    "print(a)"
   ]
  },
  {
   "cell_type": "code",
   "execution_count": 14,
   "metadata": {},
   "outputs": [],
   "source": [
    "#Estamos cambiando el valor al producto, no es una copia del elemento.\n",
    "copia_al = a\n",
    "copia_al.referencia = 2038"
   ]
  },
  {
   "cell_type": "code",
   "execution_count": 15,
   "metadata": {},
   "outputs": [
    {
     "name": "stdout",
     "output_type": "stream",
     "text": [
      "REFERENCIA\t2038\n",
      "NOMBRE\tVaso adornado\n",
      "PRECIO\t13.5\n",
      "DESCRIPCION\tVaso de porcelana adornado con dibujos\n",
      "\n"
     ]
    }
   ],
   "source": [
    "print(copia_al)"
   ]
  },
  {
   "cell_type": "code",
   "execution_count": 16,
   "metadata": {},
   "outputs": [
    {
     "name": "stdout",
     "output_type": "stream",
     "text": [
      "REFERENCIA\t2038\n",
      "NOMBRE\tVaso adornado\n",
      "PRECIO\t13.5\n",
      "DESCRIPCION\tVaso de porcelana adornado con dibujos\n",
      "\n"
     ]
    }
   ],
   "source": [
    "print(a)"
   ]
  },
  {
   "cell_type": "code",
   "execution_count": 17,
   "metadata": {},
   "outputs": [],
   "source": [
    "#Se cambio la referencia a ambos objetos.\n",
    "l = [1,2,3]\n",
    "l2 = l"
   ]
  },
  {
   "cell_type": "code",
   "execution_count": 18,
   "metadata": {},
   "outputs": [],
   "source": [
    "l2.append(4)"
   ]
  },
  {
   "cell_type": "code",
   "execution_count": 19,
   "metadata": {},
   "outputs": [
    {
     "data": {
      "text/plain": [
       "[1, 2, 3, 4]"
      ]
     },
     "execution_count": 19,
     "metadata": {},
     "output_type": "execute_result"
    }
   ],
   "source": [
    "l"
   ]
  },
  {
   "cell_type": "code",
   "execution_count": 20,
   "metadata": {},
   "outputs": [],
   "source": [
    "l3 = l[:]"
   ]
  },
  {
   "cell_type": "code",
   "execution_count": 21,
   "metadata": {},
   "outputs": [],
   "source": [
    "l3.append(5)"
   ]
  },
  {
   "cell_type": "code",
   "execution_count": 22,
   "metadata": {},
   "outputs": [
    {
     "data": {
      "text/plain": [
       "[1, 2, 3, 4]"
      ]
     },
     "execution_count": 22,
     "metadata": {},
     "output_type": "execute_result"
    }
   ],
   "source": [
    "l"
   ]
  },
  {
   "cell_type": "code",
   "execution_count": 23,
   "metadata": {},
   "outputs": [],
   "source": [
    "#Ahi si... \n",
    "#Se puede hacer una copia, usando módulo copy"
   ]
  },
  {
   "cell_type": "code",
   "execution_count": 24,
   "metadata": {},
   "outputs": [],
   "source": [
    "import copy\n",
    "\n",
    "copia_ad = copy.copy(a)"
   ]
  },
  {
   "cell_type": "code",
   "execution_count": 25,
   "metadata": {},
   "outputs": [
    {
     "name": "stdout",
     "output_type": "stream",
     "text": [
      "REFERENCIA\t2038\n",
      "NOMBRE\tVaso adornado\n",
      "PRECIO\t13.5\n",
      "DESCRIPCION\tVaso de porcelana adornado con dibujos\n",
      "\n"
     ]
    }
   ],
   "source": [
    "print(copia_ad)"
   ]
  },
  {
   "cell_type": "code",
   "execution_count": 26,
   "metadata": {},
   "outputs": [],
   "source": [
    "#si la modificamos\n",
    "copia_ad.precio = 25"
   ]
  },
  {
   "cell_type": "code",
   "execution_count": 27,
   "metadata": {},
   "outputs": [
    {
     "name": "stdout",
     "output_type": "stream",
     "text": [
      "REFERENCIA\t2038\n",
      "NOMBRE\tVaso adornado\n",
      "PRECIO\t13.5\n",
      "DESCRIPCION\tVaso de porcelana adornado con dibujos\n",
      "\n"
     ]
    }
   ],
   "source": [
    "print(a)"
   ]
  },
  {
   "cell_type": "code",
   "execution_count": 28,
   "metadata": {},
   "outputs": [
    {
     "name": "stdout",
     "output_type": "stream",
     "text": [
      "REFERENCIA\t2038\n",
      "NOMBRE\tVaso adornado\n",
      "PRECIO\t25\n",
      "DESCRIPCION\tVaso de porcelana adornado con dibujos\n",
      "\n"
     ]
    }
   ],
   "source": [
    "print(copia_ad)"
   ]
  },
  {
   "cell_type": "code",
   "execution_count": null,
   "metadata": {},
   "outputs": [],
   "source": [
    "#Copy funciona con todo elemento. "
   ]
  }
 ],
 "metadata": {
  "kernelspec": {
   "display_name": "Python 3",
   "language": "python",
   "name": "python3"
  },
  "language_info": {
   "codemirror_mode": {
    "name": "ipython",
    "version": 3
   },
   "file_extension": ".py",
   "mimetype": "text/x-python",
   "name": "python",
   "nbconvert_exporter": "python",
   "pygments_lexer": "ipython3",
   "version": "3.6.5"
  }
 },
 "nbformat": 4,
 "nbformat_minor": 2
}
